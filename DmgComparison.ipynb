{
 "cells": [
  {
   "cell_type": "markdown",
   "metadata": {},
   "source": [
    "##  **Rules :**\n",
    "- Ditch the percentage sign directly, no need to convert into decimal. example: <br>\n",
    "    if the number is 5.5%, **write 5.5** and not 0.055\n",
    "\n",
    "- Number can be written as python script."
   ]
  },
  {
   "cell_type": "markdown",
   "metadata": {},
   "source": [
    "# **Functions, Helpers, and Hyperparameters**"
   ]
  },
  {
   "cell_type": "code",
   "execution_count": 2,
   "metadata": {},
   "outputs": [
    {
     "name": "stdout",
     "output_type": "stream",
     "text": [
      "The autoreload extension is already loaded. To reload it, use:\n",
      "  %reload_ext autoreload\n"
     ]
    }
   ],
   "source": [
    "from packages.base import *\n",
    "from packages.disp import *\n",
    "from packages.stats import stats\n",
    "from packages.helper import *\n",
    "from packages.utils import Atk, Hp, Def, Em, Er, Amp\n",
    "\n",
    "%load_ext autoreload\n",
    "%autoreload 2\n",
    "\n",
    "\n",
    "data = []\n",
    "for i in range(5):\n",
    "    data.append(stats())"
   ]
  },
  {
   "cell_type": "markdown",
   "metadata": {},
   "source": [
    "### Hyperparameters"
   ]
  },
  {
   "cell_type": "code",
   "execution_count": 3,
   "metadata": {},
   "outputs": [],
   "source": [
    "calculationMode = 0\n",
    "\n",
    "# Put :\n",
    "# 0 for Genshin Impat\n",
    "# 1 for Honkai Star Rail"
   ]
  },
  {
   "cell_type": "markdown",
   "metadata": {},
   "source": [
    "# **Global Stats**"
   ]
  },
  {
   "cell_type": "markdown",
   "metadata": {},
   "source": [
    "### Personal Base Stats"
   ]
  },
  {
   "cell_type": "code",
   "execution_count": 4,
   "metadata": {},
   "outputs": [],
   "source": [
    "base = complete(\n",
    "\n",
    "    calculationMode = calculationMode,\n",
    "    level = 90\n",
    "    \n",
    "    ,elementalMastery = 0\n",
    "    ,energyRecharge = 100\n",
    "    \n",
    "# Atk\n",
    "    ,atkBase = 0\n",
    "    ,atkPercent = 0\n",
    "    ,atkFlat = 0\n",
    "    \n",
    "# Hp\n",
    "    ,hpBase = 0\n",
    "    ,hpPercent = 0\n",
    "    ,hpFlat = 0\n",
    "    \n",
    "# Def\n",
    "    ,defBase = 0\n",
    "    ,defPercent = 0\n",
    "    ,defFlat = 0\n",
    "    \n",
    "# Dmg\n",
    "    ,motionValue = 100*Atk\n",
    "    ,dmgFlat = 0\n",
    "    \n",
    "# Dmg Bonus\n",
    "    ,dmgBonusElemental = 0\n",
    "    ,dmgBonusOther = 0\n",
    "    \n",
    "# Crit\n",
    "    ,critRate = 0\n",
    "    ,critDmg = 0\n",
    "    \n",
    "# Multipliers\n",
    "    ,quickenType = Off\n",
    "    ,quickenDmgBonus = 0\n",
    "    ,quickenCount = 1\n",
    "    ,amplifyType = Off\n",
    "    ,amplifyDmgBonus = 0\n",
    "    ,customMultiplier = Off\n",
    "    \n",
    "# Enemy Stats\n",
    "    ,levelEnemy = 90\n",
    "    ,resBase = 10\n",
    "    ,resShred = 0\n",
    "    ,defShred = 0\n",
    "    ,defIgnore = 0\n",
    "    \n",
    "# Conversions\n",
    "    ,convertToAtk = 0\n",
    "    ,convertToHp = 0\n",
    "    ,convertToDef = 0\n",
    "    ,convertToER = 0\n",
    "    ,convertToEM = 0\n",
    "    \n",
    "    ,convertToDmgFlat = 0\n",
    "    ,convertToDmgBonus = 0\n",
    "    ,convertToCritRate = 0\n",
    "    ,convertToCritDmg = 0\n",
    "    \n",
    "# Buff Status\n",
    "    ,buffStatus = True\n",
    ")"
   ]
  },
  {
   "cell_type": "markdown",
   "metadata": {},
   "source": [
    "#### Team Buff / Debuff"
   ]
  },
  {
   "cell_type": "code",
   "execution_count": 5,
   "metadata": {},
   "outputs": [],
   "source": [
    "globalBuffs = partial(\n",
    "\n",
    "        elementalMastery = 0\n",
    "        ,energyRecharge = 0\n",
    "    # Atk\n",
    "        ,atkPercent = 0\n",
    "        ,atkFlat = 0\n",
    "    # Hp\n",
    "        ,hpPercent = 0\n",
    "        ,hpFlat = 0\n",
    "    # Def\n",
    "        ,defPercent = 0\n",
    "        ,defFlat = 0\n",
    "    # Dmg\n",
    "        ,dmgFlat = 0\n",
    "    # Dmg Bonus\n",
    "        ,dmgBonusElemental = 0\n",
    "        ,dmgBonusOther = 0\n",
    "    # Crit\n",
    "        ,critRate = 0\n",
    "        ,critDmg = 0\n",
    "    # Reaction\n",
    "        ,quickenDmgBonus = 0\n",
    "        ,amplifyDmgBonus = 0\n",
    "    # Enemy Stats\n",
    "        ,resShred = 0\n",
    "        ,defShred = 0\n",
    "        ,defIgnore = 0\n",
    ")"
   ]
  },
  {
   "cell_type": "markdown",
   "metadata": {},
   "source": [
    "# **Unique Stats**"
   ]
  },
  {
   "cell_type": "markdown",
   "metadata": {},
   "source": [
    "#### **Data 1**"
   ]
  },
  {
   "cell_type": "code",
   "execution_count": 6,
   "metadata": {},
   "outputs": [
    {
     "name": "stdout",
     "output_type": "stream",
     "text": [
      "Atk = 0.0\n",
      "Hp = 0.0\n",
      "Def = 0.0\n",
      "ER = 200\n",
      "EM = 0\n",
      "Dmg Bonus = 0\n",
      "Crit Rate = 0\n",
      "Crit Damage = 0\n",
      "Dmg Non Crit = 0.0\n",
      "Dmg Average = 0.0\n",
      "Dmg Crit = 0.0\n"
     ]
    }
   ],
   "source": [
    "label = \"Label\"\n",
    "\n",
    "custom = complete(\n",
    "\n",
    "    calculationMode = calculationMode,\n",
    "    level = Inherit\n",
    "    \n",
    "    ,elementalMastery = 0\n",
    "    ,energyRecharge = 0\n",
    "    \n",
    "# Atk\n",
    "    ,atkBase = Inherit\n",
    "    ,atkPercent = 0\n",
    "    ,atkFlat = 0\n",
    "    \n",
    "# Hp\n",
    "    ,hpBase = Inherit\n",
    "    ,hpPercent = 0\n",
    "    ,hpFlat = 0\n",
    "    \n",
    "# Def\n",
    "    ,defBase = Inherit\n",
    "    ,defPercent = 0\n",
    "    ,defFlat = 0\n",
    "    \n",
    "# Dmg\n",
    "    ,motionValue = Inherit\n",
    "    ,dmgFlat = 0\n",
    "    \n",
    "# Dmg Bonus\n",
    "    ,dmgBonusElemental = 0\n",
    "    ,dmgBonusOther = 0\n",
    "    \n",
    "# Crit\n",
    "    ,critRate = 0\n",
    "    ,critDmg = 0\n",
    "    \n",
    "# Multipliers\n",
    "    ,quickenType = Inherit\n",
    "    ,quickenDmgBonus = 0\n",
    "    ,quickenCount = 0 \n",
    "    ,amplifyType = Inherit\n",
    "    ,amplifyDmgBonus = 0\n",
    "    ,customMultiplier = Inherit\n",
    "    \n",
    "# Enemy Stats\n",
    "    ,levelEnemy = Inherit\n",
    "    ,resBase = Inherit\n",
    "    ,resShred = 0\n",
    "    ,defShred = 0\n",
    "    ,defIgnore = 0\n",
    "    \n",
    "# Conversions\n",
    "    ,convertToAtk = Inherit\n",
    "    ,convertToHp = Inherit\n",
    "    ,convertToDef = Inherit\n",
    "    ,convertToER = Inherit\n",
    "    ,convertToEM = Inherit\n",
    "    \n",
    "    ,convertToDmgFlat = Inherit\n",
    "    ,convertToDmgBonus = Inherit\n",
    "    ,convertToCritRate = Inherit\n",
    "    ,convertToCritDmg = Inherit\n",
    "    \n",
    "# Buff Status\n",
    "    ,buffStatus = True\n",
    ")\n",
    "\n",
    "\n",
    "# Calculation Script\n",
    "cid = 0\n",
    "data[cid].label = label\n",
    "data[cid].calculate(base, custom, globalBuffs)"
   ]
  },
  {
   "cell_type": "markdown",
   "metadata": {},
   "source": [
    "#### **Data 2**"
   ]
  },
  {
   "cell_type": "code",
   "execution_count": 7,
   "metadata": {},
   "outputs": [
    {
     "name": "stdout",
     "output_type": "stream",
     "text": [
      "Atk = 0.0\n",
      "Hp = 0.0\n",
      "Def = 0.0\n",
      "ER = 200\n",
      "EM = 0\n",
      "Dmg Bonus = 0\n",
      "Crit Rate = 0\n",
      "Crit Damage = 0\n",
      "Dmg Non Crit = 0.0\n",
      "Dmg Average = 0.0\n",
      "Dmg Crit = 0.0\n"
     ]
    }
   ],
   "source": [
    "label = \"Label\"\n",
    "\n",
    "custom = complete(\n",
    "\n",
    "    calculationMode = calculationMode,\n",
    "    level = Inherit\n",
    "    \n",
    "    ,elementalMastery = 0\n",
    "    ,energyRecharge = 0\n",
    "    \n",
    "# Atk\n",
    "    ,atkBase = Inherit\n",
    "    ,atkPercent = 0\n",
    "    ,atkFlat = 0\n",
    "    \n",
    "# Hp\n",
    "    ,hpBase = Inherit\n",
    "    ,hpPercent = 0\n",
    "    ,hpFlat = 0\n",
    "    \n",
    "# Def\n",
    "    ,defBase = Inherit\n",
    "    ,defPercent = 0\n",
    "    ,defFlat = 0\n",
    "    \n",
    "# Dmg\n",
    "    ,motionValue = Inherit\n",
    "    ,dmgFlat = 0\n",
    "    \n",
    "# Dmg Bonus\n",
    "    ,dmgBonusElemental = 0\n",
    "    ,dmgBonusOther = 0\n",
    "    \n",
    "# Crit\n",
    "    ,critRate = 0\n",
    "    ,critDmg = 0\n",
    "    \n",
    "# Multipliers\n",
    "    ,quickenType = Inherit\n",
    "    ,quickenDmgBonus = 0\n",
    "    ,quickenCount = 0 \n",
    "    ,amplifyType = Inherit\n",
    "    ,amplifyDmgBonus = 0\n",
    "    ,customMultiplier = Inherit\n",
    "    \n",
    "# Enemy Stats\n",
    "    ,levelEnemy = Inherit\n",
    "    ,resBase = Inherit\n",
    "    ,resShred = 0\n",
    "    ,defShred = 0\n",
    "    ,defIgnore = 0\n",
    "    \n",
    "# Conversions\n",
    "    ,convertToAtk = Inherit\n",
    "    ,convertToHp = Inherit\n",
    "    ,convertToDef = Inherit\n",
    "    ,convertToER = Inherit\n",
    "    ,convertToEM = Inherit\n",
    "    \n",
    "    ,convertToDmgFlat = Inherit\n",
    "    ,convertToDmgBonus = Inherit\n",
    "    ,convertToCritRate = Inherit\n",
    "    ,convertToCritDmg = Inherit\n",
    "    \n",
    "# Buff Status\n",
    "    ,buffStatus = True\n",
    ")\n",
    "\n",
    "\n",
    "# Calculation Script\n",
    "cid = 1\n",
    "data[cid].label = label\n",
    "data[cid].calculate(base, custom, globalBuffs)"
   ]
  },
  {
   "cell_type": "markdown",
   "metadata": {},
   "source": [
    "#### **Data 3**"
   ]
  },
  {
   "cell_type": "code",
   "execution_count": 8,
   "metadata": {},
   "outputs": [
    {
     "name": "stdout",
     "output_type": "stream",
     "text": [
      "Atk = 0.0\n",
      "Hp = 0.0\n",
      "Def = 0.0\n",
      "ER = 200\n",
      "EM = 0\n",
      "Dmg Bonus = 0\n",
      "Crit Rate = 0\n",
      "Crit Damage = 0\n",
      "Dmg Non Crit = 0.0\n",
      "Dmg Average = 0.0\n",
      "Dmg Crit = 0.0\n"
     ]
    }
   ],
   "source": [
    "label = \"Label\"\n",
    "\n",
    "custom = complete(\n",
    "\n",
    "    calculationMode = calculationMode,\n",
    "    level = Inherit\n",
    "    \n",
    "    ,elementalMastery = 0\n",
    "    ,energyRecharge = 0\n",
    "    \n",
    "# Atk\n",
    "    ,atkBase = Inherit\n",
    "    ,atkPercent = 0\n",
    "    ,atkFlat = 0\n",
    "    \n",
    "# Hp\n",
    "    ,hpBase = Inherit\n",
    "    ,hpPercent = 0\n",
    "    ,hpFlat = 0\n",
    "    \n",
    "# Def\n",
    "    ,defBase = Inherit\n",
    "    ,defPercent = 0\n",
    "    ,defFlat = 0\n",
    "    \n",
    "# Dmg\n",
    "    ,motionValue = Inherit\n",
    "    ,dmgFlat = 0\n",
    "    \n",
    "# Dmg Bonus\n",
    "    ,dmgBonusElemental = 0\n",
    "    ,dmgBonusOther = 0\n",
    "    \n",
    "# Crit\n",
    "    ,critRate = 0\n",
    "    ,critDmg = 0\n",
    "    \n",
    "# Multipliers\n",
    "    ,quickenType = Inherit\n",
    "    ,quickenDmgBonus = 0\n",
    "    ,quickenCount = 0 \n",
    "    ,amplifyType = Inherit\n",
    "    ,amplifyDmgBonus = 0\n",
    "    ,customMultiplier = Inherit\n",
    "    \n",
    "# Enemy Stats\n",
    "    ,levelEnemy = Inherit\n",
    "    ,resBase = Inherit\n",
    "    ,resShred = 0\n",
    "    ,defShred = 0\n",
    "    ,defIgnore = 0\n",
    "    \n",
    "# Conversions\n",
    "    ,convertToAtk = Inherit\n",
    "    ,convertToHp = Inherit\n",
    "    ,convertToDef = Inherit\n",
    "    ,convertToER = Inherit\n",
    "    ,convertToEM = Inherit\n",
    "    \n",
    "    ,convertToDmgFlat = Inherit\n",
    "    ,convertToDmgBonus = Inherit\n",
    "    ,convertToCritRate = Inherit\n",
    "    ,convertToCritDmg = Inherit\n",
    "    \n",
    "# Buff Status\n",
    "    ,buffStatus = True\n",
    ")\n",
    "\n",
    "\n",
    "# Calculation Script\n",
    "cid = 2\n",
    "data[cid].label = label\n",
    "data[cid].calculate(base, custom, globalBuffs)"
   ]
  },
  {
   "cell_type": "markdown",
   "metadata": {},
   "source": [
    "#### **Comparison**"
   ]
  },
  {
   "cell_type": "markdown",
   "metadata": {},
   "source": [
    "**% Difference**"
   ]
  },
  {
   "cell_type": "code",
   "execution_count": 10,
   "metadata": {},
   "outputs": [
    {
     "ename": "ZeroDivisionError",
     "evalue": "float division by zero",
     "output_type": "error",
     "traceback": [
      "\u001b[1;31m---------------------------------------------------------------------------\u001b[0m",
      "\u001b[1;31mZeroDivisionError\u001b[0m                         Traceback (most recent call last)",
      "Cell \u001b[1;32mIn[10], line 1\u001b[0m\n\u001b[1;32m----> 1\u001b[0m \u001b[43mdiff\u001b[49m\u001b[43m(\u001b[49m\u001b[43mdata\u001b[49m\u001b[43m,\u001b[49m\u001b[43m \u001b[49m\u001b[43mtotalData\u001b[49m\u001b[43m \u001b[49m\u001b[38;5;241;43m=\u001b[39;49m\u001b[43m \u001b[49m\u001b[38;5;241;43m3\u001b[39;49m\u001b[43m)\u001b[49m\n",
      "File \u001b[1;32md:\\Personal Projects\\Calcuations\\Damage Calculator\\packages\\disp.py:14\u001b[0m, in \u001b[0;36mdiff\u001b[1;34m(data, totalData)\u001b[0m\n\u001b[0;32m     12\u001b[0m \u001b[38;5;28;01mfor\u001b[39;00m i \u001b[38;5;129;01min\u001b[39;00m \u001b[38;5;28mrange\u001b[39m(totalData):\n\u001b[0;32m     13\u001b[0m     \u001b[38;5;28;01mfor\u001b[39;00m j \u001b[38;5;129;01min\u001b[39;00m \u001b[38;5;28mrange\u001b[39m(totalData):\n\u001b[1;32m---> 14\u001b[0m         corr[i,j] \u001b[38;5;241m=\u001b[39m \u001b[43mdeltaPerc\u001b[49m\u001b[43m(\u001b[49m\u001b[43mdata\u001b[49m\u001b[43m[\u001b[49m\u001b[43mi\u001b[49m\u001b[43m]\u001b[49m\u001b[38;5;241;43m.\u001b[39;49m\u001b[43mdmgAvg\u001b[49m\u001b[43m,\u001b[49m\u001b[43m \u001b[49m\u001b[43mdata\u001b[49m\u001b[43m[\u001b[49m\u001b[43mj\u001b[49m\u001b[43m]\u001b[49m\u001b[38;5;241;43m.\u001b[39;49m\u001b[43mdmgAvg\u001b[49m\u001b[43m)\u001b[49m\u001b[38;5;241m/\u001b[39m\u001b[38;5;241m100\u001b[39m\n\u001b[0;32m     15\u001b[0m     tick\u001b[38;5;241m.\u001b[39mappend(data[i]\u001b[38;5;241m.\u001b[39mlabel)\n\u001b[0;32m     17\u001b[0m plt\u001b[38;5;241m.\u001b[39mfigure(figsize\u001b[38;5;241m=\u001b[39m(\u001b[38;5;241m6\u001b[39m,\u001b[38;5;241m4\u001b[39m))\n",
      "File \u001b[1;32md:\\Personal Projects\\Calcuations\\Damage Calculator\\packages\\utils.py:73\u001b[0m, in \u001b[0;36m<lambda>\u001b[1;34m(origin, target)\u001b[0m\n\u001b[0;32m     69\u001b[0m def_hsr \u001b[38;5;241m=\u001b[39m \u001b[38;5;28;01mlambda\u001b[39;00m Lv, Enemy_Lv, defShred, defIgnore: (\u001b[38;5;241m20\u001b[39m \u001b[38;5;241m+\u001b[39m Lv) \u001b[38;5;241m/\u001b[39m ((\u001b[38;5;241m20\u001b[39m \u001b[38;5;241m+\u001b[39m Enemy_Lv)\u001b[38;5;241m*\u001b[39m(\u001b[38;5;241m100\u001b[39m \u001b[38;5;241m-\u001b[39m defShred \u001b[38;5;241m-\u001b[39m defIgnore)\u001b[38;5;241m/\u001b[39m\u001b[38;5;241m100\u001b[39m \u001b[38;5;241m+\u001b[39m (\u001b[38;5;241m20\u001b[39m \u001b[38;5;241m+\u001b[39m Lv))\n\u001b[0;32m     71\u001b[0m damage \u001b[38;5;241m=\u001b[39m \u001b[38;5;28;01mlambda\u001b[39;00m base, flat, quicken, dmgBonus, defMultiplier, resMultiplier, customMultiplier: ((base \u001b[38;5;241m+\u001b[39m flat)\u001b[38;5;241m*\u001b[39m(\u001b[38;5;241m1\u001b[39m \u001b[38;5;241m+\u001b[39m dmgBonus\u001b[38;5;241m/\u001b[39m\u001b[38;5;241m100\u001b[39m)\u001b[38;5;241m+\u001b[39mquicken)\u001b[38;5;241m*\u001b[39mdefMultiplier\u001b[38;5;241m*\u001b[39mresMultiplier\u001b[38;5;241m*\u001b[39mcustomMultiplier\n\u001b[1;32m---> 73\u001b[0m deltaPerc \u001b[38;5;241m=\u001b[39m \u001b[38;5;28;01mlambda\u001b[39;00m origin, target: (\u001b[43mtarget\u001b[49m\u001b[43m \u001b[49m\u001b[38;5;241;43m/\u001b[39;49m\u001b[43m \u001b[49m\u001b[43morigin\u001b[49m \u001b[38;5;241m-\u001b[39m \u001b[38;5;241m1\u001b[39m)\u001b[38;5;241m*\u001b[39m\u001b[38;5;241m100\u001b[39m\n",
      "\u001b[1;31mZeroDivisionError\u001b[0m: float division by zero"
     ]
    }
   ],
   "source": [
    "diff(data, totalData = 3)"
   ]
  },
  {
   "cell_type": "markdown",
   "metadata": {},
   "source": [
    "**Plot comparison**"
   ]
  },
  {
   "cell_type": "code",
   "execution_count": null,
   "metadata": {},
   "outputs": [],
   "source": [
    "plot(data, totalData = 3, originData = 1)\n",
    "print(globalBuffs)"
   ]
  }
 ],
 "metadata": {
  "kernelspec": {
   "display_name": "Python 3",
   "language": "python",
   "name": "python3"
  },
  "language_info": {
   "codemirror_mode": {
    "name": "ipython",
    "version": 3
   },
   "file_extension": ".py",
   "mimetype": "text/x-python",
   "name": "python",
   "nbconvert_exporter": "python",
   "pygments_lexer": "ipython3",
   "version": "3.12.2"
  },
  "orig_nbformat": 4
 },
 "nbformat": 4,
 "nbformat_minor": 2
}
