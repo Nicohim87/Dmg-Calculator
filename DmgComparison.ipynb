{
 "cells": [
  {
   "cell_type": "markdown",
   "metadata": {},
   "source": [
    "##  **Rules :**\n",
    "- Ditch the percentage sign directly, no need to convert into decimal. example: <br>\n",
    "    if the number is 5.5%, **write 5.5** and not 0.055\n",
    "\n",
    "- Number can be written as python script."
   ]
  },
  {
   "cell_type": "markdown",
   "metadata": {},
   "source": [
    "# **Functions, Helpers, and Hyperparameters**"
   ]
  },
  {
   "cell_type": "markdown",
   "metadata": {},
   "source": [
    "### Functions and Helpers"
   ]
  },
  {
   "cell_type": "code",
   "execution_count": 4,
   "metadata": {},
   "outputs": [],
   "source": [
    "from packages.base import *\n",
    "from packages.disp import *\n",
    "from packages.stats import stats\n",
    "\n",
    "data = []\n",
    "for i in range(5):\n",
    "    data.append(stats)"
   ]
  },
  {
   "cell_type": "code",
   "execution_count": null,
   "metadata": {},
   "outputs": [],
   "source": [
    "Inherit = \"inherit\"\n",
    "\n",
    "Off = 0\n",
    "\n",
    "Melt = 2\n",
    "ReverseMelt = 1.5\n",
    "Vaporize = 2\n",
    "ReverseVaporize = 1.5\n",
    "\n",
    "Aggravate = 1.15\n",
    "Spread = 1.25"
   ]
  },
  {
   "cell_type": "markdown",
   "metadata": {},
   "source": [
    "### Hyperparameters"
   ]
  },
  {
   "cell_type": "code",
   "execution_count": null,
   "metadata": {},
   "outputs": [],
   "source": [
    "calculationMode = 0"
   ]
  },
  {
   "cell_type": "markdown",
   "metadata": {},
   "source": [
    "# **Global Stats**"
   ]
  },
  {
   "cell_type": "markdown",
   "metadata": {},
   "source": [
    "### Personal Base Stats"
   ]
  },
  {
   "cell_type": "code",
   "execution_count": null,
   "metadata": {},
   "outputs": [],
   "source": [
    "base = complete(\n",
    "\n",
    "    calculationMode = calculationMode,\n",
    "    level = 90\n",
    "    \n",
    "    ,elementalMastery = 0\n",
    "    ,energyRecharge = 100\n",
    "    \n",
    "# Atk\n",
    "    ,atkBase = 0\n",
    "    ,atkPercent = 0\n",
    "    ,atkFlat = 0\n",
    "    \n",
    "# Hp\n",
    "    ,hpBase = 0\n",
    "    ,hpPercent = 0\n",
    "    ,hpFlat = 0\n",
    "    \n",
    "# Def\n",
    "    ,defBase = 0\n",
    "    ,defPercent = 0\n",
    "    ,defFlat = 0\n",
    "    \n",
    "# Dmg\n",
    "    ,motionValue = lambda Atk, Hp, Def, EM, ER, Amp: 100*Atk\n",
    "    ,dmgFlat = 0\n",
    "    \n",
    "# Dmg Bonus\n",
    "    ,dmgBonusElemental = 0\n",
    "    ,dmgBonusOther = 0\n",
    "    \n",
    "# Crit\n",
    "    ,critRate = 0\n",
    "    ,critDmg = 0\n",
    "    \n",
    "# Multipliers\n",
    "    ,quickenType = Off\n",
    "    ,quickenDmgBonus = 0\n",
    "    ,catalyzeCount = 1\n",
    "    ,amplifyType = Off\n",
    "    ,amplifyDmgBonus = 0\n",
    "    ,customMultiplier = Off\n",
    "    \n",
    "# Enemy Stats\n",
    "    ,levelEnemy = 90\n",
    "    ,resistanceBase = 10\n",
    "    ,resistanceReduction = 0\n",
    "    ,defShred = 0\n",
    "    ,defIgnore = 0\n",
    "    \n",
    "# Conversions\n",
    "    ,convertToAtk = lambda Hp, Def, ER, EM: 0\n",
    "    ,convertToHp = lambda Atk, Def, ER, EM: 0\n",
    "    ,convertToDef = lambda Atk, Hp, ER, EM: 0\n",
    "    ,convertToER = lambda Atk, Hp, Def, EM: 0\n",
    "    ,convertToEM = lambda Atk, Hp, Def, ER: 0\n",
    "    \n",
    "    ,convertToDmgFlat = lambda Atk, Hp, Def, ER, EM: 0\n",
    "    ,convertToDmgBonus = lambda Atk, Hp, Def, ER, EM: 0\n",
    "    ,convertToCritRate = lambda Atk, Hp, Def, ER, EM: 0\n",
    "    ,convertToCritDmg = lambda Atk, Hp, Def, ER, EM: 0\n",
    "    \n",
    "# Buff Status\n",
    "    ,buffStatus = True\n",
    ")"
   ]
  },
  {
   "cell_type": "markdown",
   "metadata": {},
   "source": [
    "#### Team Buff / Debuff"
   ]
  },
  {
   "cell_type": "code",
   "execution_count": null,
   "metadata": {},
   "outputs": [],
   "source": [
    "globalBuffs = partial(\n",
    "# Put :\n",
    "# 0 for Genshin Impat\n",
    "# 1 for Honkai Star Rail\n",
    "\n",
    "        elementalMastery = 0\n",
    "        ,energyRecharge = 0\n",
    "    # Atk\n",
    "        ,atkPercent = 0\n",
    "        ,atkFlat = 0\n",
    "    # Hp\n",
    "        ,hpPercent = 0\n",
    "        ,hpFlat = 0\n",
    "    # Def\n",
    "        ,defPercent = 0\n",
    "        ,defFlat = 0\n",
    "    # Dmg\n",
    "        ,dmgFlat = 0\n",
    "    # Dmg Bonus\n",
    "        ,dmgBonus = 0\n",
    "    # Crit\n",
    "        ,critRate = 0\n",
    "        ,critDmg = 0\n",
    "    # Reaction\n",
    "        ,quickenDmgBonus = 0\n",
    "        ,amplifyDmgBonus = 0\n",
    "    # Enemy Stats\n",
    "        ,resistanceReduction = 0\n",
    ")"
   ]
  },
  {
   "cell_type": "markdown",
   "metadata": {},
   "source": [
    "# **Unique Stats**"
   ]
  },
  {
   "cell_type": "markdown",
   "metadata": {},
   "source": [
    "#### **Data 1**"
   ]
  },
  {
   "cell_type": "code",
   "execution_count": null,
   "metadata": {},
   "outputs": [],
   "source": [
    "label = \"Label\"\n",
    "data[0].setLabel(label)\n",
    "\n",
    "custom = complete(\n",
    "\n",
    "    calculationMode = calculationMode,\n",
    "    level = 90\n",
    "    \n",
    "    ,elementalMastery = 0\n",
    "    ,energyRecharge = 100\n",
    "    \n",
    "# Atk\n",
    "    ,atkBase = 0\n",
    "    ,atkPercent = 0\n",
    "    ,atkFlat = 0\n",
    "    \n",
    "# Hp\n",
    "    ,hpBase = 0\n",
    "    ,hpPercent = 0\n",
    "    ,hpFlat = 0\n",
    "    \n",
    "# Def\n",
    "    ,defBase = 0\n",
    "    ,defPercent = 0\n",
    "    ,defFlat = 0\n",
    "    \n",
    "# Dmg\n",
    "    ,motionValue = lambda Atk, Hp, Def, EM, ER, Amp: 100*Atk\n",
    "    ,dmgFlat = 0\n",
    "    \n",
    "# Dmg Bonus\n",
    "    ,dmgBonusElemental = 0\n",
    "    ,dmgBonusOther = 0\n",
    "    \n",
    "# Crit\n",
    "    ,critRate = 0\n",
    "    ,critDmg = 0\n",
    "    \n",
    "# Multipliers\n",
    "    ,quickenType = Off\n",
    "    ,quickenDmgBonus = 0\n",
    "    ,catalyzeCount = 1\n",
    "    ,amplifyType = Off\n",
    "    ,amplifyDmgBonus = 0\n",
    "    ,customMultiplier = Off\n",
    "    \n",
    "# Enemy Stats\n",
    "    ,levelEnemy = 90\n",
    "    ,resistanceBase = 10\n",
    "    ,resistanceReduction = 0\n",
    "    ,defShred = 0\n",
    "    ,defIgnore = 0\n",
    "    \n",
    "# Conversions\n",
    "    ,convertToAtk = lambda Hp, Def, ER, EM: 0\n",
    "    ,convertToHp = lambda Atk, Def, ER, EM: 0\n",
    "    ,convertToDef = lambda Atk, Hp, ER, EM: 0\n",
    "    ,convertToER = lambda Atk, Hp, Def, EM: 0\n",
    "    ,convertToEM = lambda Atk, Hp, Def, ER: 0\n",
    "    \n",
    "    ,convertToDmgFlat = lambda Atk, Hp, Def, ER, EM: 0\n",
    "    ,convertToDmgBonus = lambda Atk, Hp, Def, ER, EM: 0\n",
    "    ,convertToCritRate = lambda Atk, Hp, Def, ER, EM: 0\n",
    "    ,convertToCritDmg = lambda Atk, Hp, Def, ER, EM: 0\n",
    "    \n",
    "# Buff Status\n",
    "    ,buffStatus = True\n",
    ")\n",
    "\n",
    "\n",
    "# Calculation Script\n",
    "data[0].calculate(base, custom, globalBuffs)"
   ]
  },
  {
   "cell_type": "markdown",
   "metadata": {},
   "source": [
    "#### **Data 2**"
   ]
  },
  {
   "cell_type": "markdown",
   "metadata": {},
   "source": [
    "#### **Data 3**"
   ]
  },
  {
   "cell_type": "markdown",
   "metadata": {},
   "source": [
    "#### **Comparison**"
   ]
  },
  {
   "cell_type": "markdown",
   "metadata": {},
   "source": [
    "**% Difference**"
   ]
  },
  {
   "cell_type": "code",
   "execution_count": null,
   "metadata": {},
   "outputs": [],
   "source": [
    "diff(data, totalData = 3, )"
   ]
  },
  {
   "cell_type": "markdown",
   "metadata": {},
   "source": [
    "**Plot comparison**"
   ]
  },
  {
   "cell_type": "code",
   "execution_count": null,
   "metadata": {},
   "outputs": [],
   "source": [
    "plot(data, totalData = 3, originData = 1)\n",
    "print(globalBuffs)"
   ]
  }
 ],
 "metadata": {
  "kernelspec": {
   "display_name": "Python 3",
   "language": "python",
   "name": "python3"
  },
  "language_info": {
   "codemirror_mode": {
    "name": "ipython",
    "version": 3
   },
   "file_extension": ".py",
   "mimetype": "text/x-python",
   "name": "python",
   "nbconvert_exporter": "python",
   "pygments_lexer": "ipython3",
   "version": "3.12.2"
  },
  "orig_nbformat": 4
 },
 "nbformat": 4,
 "nbformat_minor": 2
}
