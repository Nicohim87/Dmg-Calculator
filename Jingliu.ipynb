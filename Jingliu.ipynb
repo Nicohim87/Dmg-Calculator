{
 "cells": [
  {
   "cell_type": "markdown",
   "metadata": {},
   "source": [
    "##  **Rules :**\n",
    "- Ditch the percentage sign directly, no need to convert into decimal. example: <br>\n",
    "    if the number is 5.5%, **write 5.5** and not 0.055\n",
    "\n",
    "- Number can be written as python script."
   ]
  },
  {
   "cell_type": "markdown",
   "metadata": {},
   "source": [
    "# **Functions, Helpers, and Hyperparameters**"
   ]
  },
  {
   "cell_type": "code",
   "execution_count": 37,
   "metadata": {},
   "outputs": [
    {
     "name": "stdout",
     "output_type": "stream",
     "text": [
      "The autoreload extension is already loaded. To reload it, use:\n",
      "  %reload_ext autoreload\n"
     ]
    }
   ],
   "source": [
    "from packages.base import *\n",
    "from packages.disp import *\n",
    "from packages.stats import stats\n",
    "from packages.helper import *\n",
    "\n",
    "%load_ext autoreload\n",
    "%autoreload 2\n",
    "\n",
    "\n",
    "data = []\n",
    "for i in range(5):\n",
    "    data.append(stats())"
   ]
  },
  {
   "cell_type": "markdown",
   "metadata": {},
   "source": [
    "### Hyperparameters"
   ]
  },
  {
   "cell_type": "code",
   "execution_count": 38,
   "metadata": {},
   "outputs": [],
   "source": [
    "calculationMode = 1\n",
    "\n",
    "# Put :\n",
    "# 0 for Genshin Impat\n",
    "# 1 for Honkai Star Rail"
   ]
  },
  {
   "cell_type": "markdown",
   "metadata": {},
   "source": [
    "# **Global Stats**"
   ]
  },
  {
   "cell_type": "markdown",
   "metadata": {},
   "source": [
    "### Personal Base Stats"
   ]
  },
  {
   "cell_type": "code",
   "execution_count": 39,
   "metadata": {},
   "outputs": [],
   "source": [
    "base = complete(\n",
    "\n",
    "    calculationMode = calculationMode,\n",
    "    level = 80\n",
    "    \n",
    "    ,elementalMastery = 0\n",
    "    ,energyRecharge = 100\n",
    "    \n",
    "# Atk\n",
    "    ,atkBase = 1261\n",
    "    ,atkPercent = 180\n",
    "    ,atkFlat = 1370\n",
    "    \n",
    "# Hp\n",
    "    ,hpBase = 0\n",
    "    ,hpPercent = 0\n",
    "    ,hpFlat = 0\n",
    "    \n",
    "# Def\n",
    "    ,defBase = 0\n",
    "    ,defPercent = 0\n",
    "    ,defFlat = 0\n",
    "    \n",
    "# Dmg\n",
    "    ,motionValue = 250*Atk\n",
    "    ,dmgFlat = 0\n",
    "    \n",
    "# Dmg Bonus\n",
    "    ,dmgBonusElemental = 38.8 + 14*3\n",
    "    ,dmgBonusOther = 0\n",
    "    \n",
    "# Crit\n",
    "    ,critRate = 91.1\n",
    "    ,critDmg = 223.2\n",
    "    \n",
    "# Multipliers\n",
    "    ,quickenType = Off\n",
    "    ,quickenDmgBonus = 0\n",
    "    ,quickenCount = 1\n",
    "    ,amplifyType = Off\n",
    "    ,amplifyDmgBonus = 0\n",
    "    ,customMultiplier = 0.925\n",
    "    \n",
    "# Enemy Stats\n",
    "    ,levelEnemy = 90\n",
    "    ,resBase = 0\n",
    "    ,resShred = 0\n",
    "    ,defShred = 12\n",
    "    ,defIgnore = 0\n",
    "    \n",
    "# Conversions\n",
    "    ,convertToAtk = 0\n",
    "    ,convertToHp = 0\n",
    "    ,convertToDef = 0\n",
    "    ,convertToER = 0\n",
    "    ,convertToEM = 0\n",
    "    \n",
    "    ,convertToDmgFlat = 0\n",
    "    ,convertToDmgBonus = 0\n",
    "    ,convertToCritRate = 0\n",
    "    ,convertToCritDmg = 0\n",
    "    \n",
    "# Buff Status\n",
    "    ,buffStatus = True\n",
    ")"
   ]
  },
  {
   "cell_type": "markdown",
   "metadata": {},
   "source": [
    "#### Team Buff / Debuff"
   ]
  },
  {
   "cell_type": "code",
   "execution_count": 40,
   "metadata": {},
   "outputs": [],
   "source": [
    "globalBuffs = partial(\n",
    "\n",
    "        elementalMastery = 0\n",
    "        ,energyRecharge = 0\n",
    "    # Atk\n",
    "        ,atkPercent = 49/2\n",
    "        ,atkFlat = 0\n",
    "    # Hp\n",
    "        ,hpPercent = 0\n",
    "        ,hpFlat = 0\n",
    "    # Def\n",
    "        ,defPercent = 0\n",
    "        ,defFlat = 0\n",
    "    # Dmg\n",
    "        ,dmgFlat = 0\n",
    "    # Dmg Bonus\n",
    "        ,dmgBonusElemental = 10\n",
    "        ,dmgBonusOther = (57 + 30)/2\n",
    "    # Crit\n",
    "        ,critRate = 0\n",
    "        ,critDmg = (.15*157.9 + 18)/2 + 20\n",
    "    # Reaction\n",
    "        ,quickenDmgBonus = 0\n",
    "        ,amplifyDmgBonus = 0\n",
    "    # Enemy Stats\n",
    "        ,resShred = 0\n",
    "        ,defShred = 0\n",
    "        ,defIgnore = 0\n",
    ")"
   ]
  },
  {
   "cell_type": "markdown",
   "metadata": {},
   "source": [
    "# **Unique Stats**"
   ]
  },
  {
   "cell_type": "markdown",
   "metadata": {},
   "source": [
    "#### **Data 1**"
   ]
  },
  {
   "cell_type": "code",
   "execution_count": 41,
   "metadata": {},
   "outputs": [
    {
     "name": "stdout",
     "output_type": "stream",
     "text": [
      "Atk = 5209.745\n",
      "Hp = 0.0\n",
      "Def = 0.0\n",
      "ER = 100\n",
      "EM = 0\n",
      "Dmg Bonus = 134.3\n",
      "Crit Rate = 91.1\n",
      "Crit Damage = 264.0425\n",
      "Dmg Non Crit = 14343.17847418064\n",
      "Dmg Average = 47580.87229648973\n",
      "Dmg Crit = 52215.26549686906\n"
     ]
    }
   ],
   "source": [
    "label = \"No Buff\"\n",
    "\n",
    "custom = complete(\n",
    "\n",
    "    calculationMode = calculationMode,\n",
    "    level = Inherit\n",
    "    \n",
    "    ,elementalMastery = 0\n",
    "    ,energyRecharge = 0\n",
    "    \n",
    "# Atk\n",
    "    ,atkBase = Inherit\n",
    "    ,atkPercent = 0\n",
    "    ,atkFlat = 0\n",
    "    \n",
    "# Hp\n",
    "    ,hpBase = Inherit\n",
    "    ,hpPercent = 0\n",
    "    ,hpFlat = 0\n",
    "    \n",
    "# Def\n",
    "    ,defBase = Inherit\n",
    "    ,defPercent = 0\n",
    "    ,defFlat = 0\n",
    "    \n",
    "# Dmg\n",
    "    ,motionValue = Inherit\n",
    "    ,dmgFlat = 0\n",
    "    \n",
    "# Dmg Bonus\n",
    "    ,dmgBonusElemental = 0\n",
    "    ,dmgBonusOther = 0\n",
    "    \n",
    "# Crit\n",
    "    ,critRate = 0\n",
    "    ,critDmg = 0\n",
    "    \n",
    "# Multipliers\n",
    "    ,quickenType = Inherit\n",
    "    ,quickenDmgBonus = 0\n",
    "    ,quickenCount = 0 \n",
    "    ,amplifyType = Inherit\n",
    "    ,amplifyDmgBonus = 0\n",
    "    ,customMultiplier = Inherit\n",
    "    \n",
    "# Enemy Stats\n",
    "    ,levelEnemy = 90\n",
    "    ,resBase = Inherit\n",
    "    ,resShred = 0\n",
    "    ,defShred = 0\n",
    "    ,defIgnore = 0\n",
    "    \n",
    "# Conversions\n",
    "    ,convertToAtk = Inherit\n",
    "    ,convertToHp = Inherit\n",
    "    ,convertToDef = Inherit\n",
    "    ,convertToER = Inherit\n",
    "    ,convertToEM = Inherit\n",
    "    \n",
    "    ,convertToDmgFlat = Inherit\n",
    "    ,convertToDmgBonus = Inherit\n",
    "    ,convertToCritRate = Inherit\n",
    "    ,convertToCritDmg = Inherit\n",
    "    \n",
    "# Buff Status\n",
    "    ,buffStatus = True\n",
    ")\n",
    "\n",
    "\n",
    "# Calculation Script\n",
    "cid = 0\n",
    "data[cid].label = label\n",
    "data[cid].calculate(base, custom, globalBuffs)"
   ]
  },
  {
   "cell_type": "markdown",
   "metadata": {},
   "source": [
    "#### **Data 2**"
   ]
  },
  {
   "cell_type": "code",
   "execution_count": 42,
   "metadata": {},
   "outputs": [
    {
     "name": "stdout",
     "output_type": "stream",
     "text": [
      "Atk = 5209.745\n",
      "Hp = 0.0\n",
      "Def = 0.0\n",
      "ER = 100\n",
      "EM = 0\n",
      "Dmg Bonus = 144.3\n",
      "Crit Rate = 91.1\n",
      "Crit Damage = 264.0425\n",
      "Dmg Non Crit = 20284.030853506203\n",
      "Dmg Average = 67288.56392856604\n",
      "Dmg Crit = 73842.49301987533\n"
     ]
    }
   ],
   "source": [
    "label = \"Pelacony\"\n",
    "\n",
    "custom = complete(\n",
    "\n",
    "    calculationMode = calculationMode,\n",
    "    level = Inherit\n",
    "    \n",
    "    ,elementalMastery = 0\n",
    "    ,energyRecharge = 0\n",
    "    \n",
    "# Atk\n",
    "    ,atkBase = Inherit\n",
    "    ,atkPercent = 0\n",
    "    ,atkFlat = 0\n",
    "    \n",
    "# Hp\n",
    "    ,hpBase = Inherit\n",
    "    ,hpPercent = 0\n",
    "    ,hpFlat = 0\n",
    "    \n",
    "# Def\n",
    "    ,defBase = Inherit\n",
    "    ,defPercent = 0\n",
    "    ,defFlat = 0\n",
    "    \n",
    "# Dmg\n",
    "    ,motionValue = Inherit\n",
    "    ,dmgFlat = 0\n",
    "    \n",
    "# Dmg Bonus\n",
    "    ,dmgBonusElemental = 10\n",
    "    ,dmgBonusOther = 0\n",
    "    \n",
    "# Crit\n",
    "    ,critRate = 0\n",
    "    ,critDmg = 0\n",
    "    \n",
    "# Multipliers\n",
    "    ,quickenType = Inherit\n",
    "    ,quickenDmgBonus = 0\n",
    "    ,quickenCount = 0 \n",
    "    ,amplifyType = Inherit\n",
    "    ,amplifyDmgBonus = 0\n",
    "    ,customMultiplier = Inherit\n",
    "    \n",
    "# Enemy Stats\n",
    "    ,levelEnemy = 90\n",
    "    ,resBase = Inherit\n",
    "    ,resShred = 0\n",
    "    ,defShred = 40 + 14/2\n",
    "    ,defIgnore = 0\n",
    "    \n",
    "# Conversions\n",
    "    ,convertToAtk = Inherit\n",
    "    ,convertToHp = Inherit\n",
    "    ,convertToDef = Inherit\n",
    "    ,convertToER = Inherit\n",
    "    ,convertToEM = Inherit\n",
    "    \n",
    "    ,convertToDmgFlat = Inherit\n",
    "    ,convertToDmgBonus = Inherit\n",
    "    ,convertToCritRate = Inherit\n",
    "    ,convertToCritDmg = Inherit\n",
    "    \n",
    "# Buff Status\n",
    "    ,buffStatus = True\n",
    ")\n",
    "\n",
    "\n",
    "# Calculation Script\n",
    "cid = 1\n",
    "data[cid].label = label\n",
    "data[cid].calculate(base, custom, globalBuffs)"
   ]
  },
  {
   "cell_type": "markdown",
   "metadata": {},
   "source": [
    "#### **Data 3**"
   ]
  },
  {
   "cell_type": "code",
   "execution_count": 43,
   "metadata": {},
   "outputs": [
    {
     "name": "stdout",
     "output_type": "stream",
     "text": [
      "Atk = 5310.625\n",
      "Hp = 0.0\n",
      "Def = 0.0\n",
      "ER = 100\n",
      "EM = 0\n",
      "Dmg Bonus = 202.3\n",
      "Crit Rate = 91.1\n",
      "Crit Damage = 264.0425\n",
      "Dmg Non Crit = 22603.156513327827\n",
      "Dmg Average = 74981.83931087551\n",
      "Dmg Crit = 82285.09605003145\n"
     ]
    }
   ],
   "source": [
    "label = \"Ruan Mei\"\n",
    "\n",
    "custom = complete(\n",
    "\n",
    "    calculationMode = calculationMode,\n",
    "    level = Inherit\n",
    "    \n",
    "    ,elementalMastery = 0\n",
    "    ,energyRecharge = 0\n",
    "    \n",
    "# Atk\n",
    "    ,atkBase = Inherit\n",
    "    ,atkPercent = 8\n",
    "    ,atkFlat = 0\n",
    "    \n",
    "# Hp\n",
    "    ,hpBase = Inherit\n",
    "    ,hpPercent = 0\n",
    "    ,hpFlat = 0\n",
    "    \n",
    "# Def\n",
    "    ,defBase = Inherit\n",
    "    ,defPercent = 0\n",
    "    ,defFlat = 0\n",
    "    \n",
    "# Dmg\n",
    "    ,motionValue = Inherit\n",
    "    ,dmgFlat = 0\n",
    "    \n",
    "# Dmg Bonus\n",
    "    ,dmgBonusElemental = 68\n",
    "    ,dmgBonusOther = 0\n",
    "    \n",
    "# Crit\n",
    "    ,critRate = 0\n",
    "    ,critDmg = 0\n",
    "    \n",
    "# Multipliers\n",
    "    ,quickenType = Inherit\n",
    "    ,quickenDmgBonus = 0\n",
    "    ,quickenCount = 0 \n",
    "    ,amplifyType = Inherit\n",
    "    ,amplifyDmgBonus = 0\n",
    "    ,customMultiplier = 0.95\n",
    "    \n",
    "# Enemy Stats\n",
    "    ,levelEnemy = 90\n",
    "    ,resBase = Inherit\n",
    "    ,resShred = 25*2/3\n",
    "    ,defShred = 0\n",
    "    ,defIgnore = 0\n",
    "    \n",
    "# Conversions\n",
    "    ,convertToAtk = Inherit\n",
    "    ,convertToHp = Inherit\n",
    "    ,convertToDef = Inherit\n",
    "    ,convertToER = Inherit\n",
    "    ,convertToEM = Inherit\n",
    "    \n",
    "    ,convertToDmgFlat = Inherit\n",
    "    ,convertToDmgBonus = Inherit\n",
    "    ,convertToCritRate = Inherit\n",
    "    ,convertToCritDmg = Inherit\n",
    "    \n",
    "# Buff Status\n",
    "    ,buffStatus = True\n",
    ")\n",
    "\n",
    "\n",
    "# Calculation Script\n",
    "cid = 2\n",
    "data[cid].label = label\n",
    "data[cid].calculate(base, custom, globalBuffs)"
   ]
  },
  {
   "cell_type": "markdown",
   "metadata": {},
   "source": [
    "#### **Comparison**"
   ]
  },
  {
   "cell_type": "markdown",
   "metadata": {},
   "source": [
    "**% Difference**"
   ]
  },
  {
   "cell_type": "code",
   "execution_count": 44,
   "metadata": {},
   "outputs": [
    {
     "data": {
      "image/png": "[encoded data removed]",
      "text/plain": [
       "<Figure size 600x400 with 2 Axes>"
      ]
     },
     "metadata": {},
     "output_type": "display_data"
    }
   ],
   "source": [
    "diff(data, totalData = 3)"
   ]
  },
  {
   "cell_type": "markdown",
   "metadata": {},
   "source": [
    "**Plot comparison**"
   ]
  },
  {
   "cell_type": "code",
   "execution_count": 45,
   "metadata": {},
   "outputs": [
    {
     "data": {
      "image/png": "[encoded data removed]",
      "text/plain": [
       "<Figure size 2000x700 with 2 Axes>"
      ]
     },
     "metadata": {},
     "output_type": "display_data"
    },
    {
     "name": "stdout",
     "output_type": "stream",
     "text": [
      "Buffs: \n",
      "\n",
      "Atk%: 24.5%\n",
      "Atk: 0\n",
      "Hp%: 0%\n",
      "Hp: 0\n",
      "Def%: 0%\n",
      "Def: 0\n",
      "Dmg Bonus: 53.5%\n",
      "Dmg Flat: 0\n",
      "Crit Rate: 0%\n",
      "Crit Dmg: 40.8425%\n",
      "Quicken Dmg Bonus: 0%\n",
      "Amplify Dmg Bonus: 0%\n",
      "Def Shred: 0\n",
      "Def Ignore:0\n",
      "Res Shred: 0%\n",
      "\n"
     ]
    }
   ],
   "source": [
    "plot(data, totalData = 3, originData = 1)\n",
    "print(globalBuffs)"
   ]
  }
 ],
 "metadata": {
  "kernelspec": {
   "display_name": "Python 3",
   "language": "python",
   "name": "python3"
  },
  "language_info": {
   "codemirror_mode": {
    "name": "ipython",
    "version": 3
   },
   "file_extension": ".py",
   "mimetype": "text/x-python",
   "name": "python",
   "nbconvert_exporter": "python",
   "pygments_lexer": "ipython3",
   "version": "3.12.2"
  },
  "orig_nbformat": 4
 },
 "nbformat": 4,
 "nbformat_minor": 2
}
